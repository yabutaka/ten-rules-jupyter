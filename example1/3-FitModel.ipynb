{
 "cells": [
  {
   "cell_type": "markdown",
   "metadata": {},
   "source": [
    "# Fit Model\n",
    "This notebook fits a 3-state classification model on a training set and calculates metrics on a test set."
   ]
  },
  {
   "cell_type": "markdown",
   "metadata": {},
   "source": [
    "---\n",
    "\n",
    "**Rule 9: Design Your Notebooks to Be Read, Run, and Explored.** We use ipywidgets to present the user with a pull-down menu to select a machine learning model.\n",
    "\n",
    "---"
   ]
  },
  {
   "cell_type": "code",
   "execution_count": 1,
   "metadata": {},
   "outputs": [],
   "source": [
    "import pandas as pd\n",
    "import mlutils\n",
    "from sklearn import svm, metrics\n",
    "from sklearn.linear_model import LogisticRegression\n",
    "from sklearn.neural_network import MLPClassifier\n",
    "from sklearn.model_selection import train_test_split\n",
    "from sklearn.externals import joblib\n",
    "from ipywidgets import widgets"
   ]
  },
  {
   "cell_type": "code",
   "execution_count": 2,
   "metadata": {},
   "outputs": [],
   "source": [
    "# column names\n",
    "feature_col = \"features\" # feature vector\n",
    "value_col = \"foldClass\" # fold class to be predicted"
   ]
  },
  {
   "cell_type": "markdown",
   "metadata": {},
   "source": [
    "### Read data set with fold type classifications and feature vectors"
   ]
  },
  {
   "cell_type": "code",
   "execution_count": 3,
   "metadata": {},
   "outputs": [],
   "source": [
    "df = pd.read_json(\"./intermediate_data/features.json\")"
   ]
  },
  {
   "cell_type": "code",
   "execution_count": 4,
   "metadata": {},
   "outputs": [
    {
     "name": "stdout",
     "output_type": "stream",
     "text": [
      "Total number of data: 5370 \n",
      "\n"
     ]
    },
    {
     "data": {
      "text/html": [
       "<div>\n",
       "<style scoped>\n",
       "    .dataframe tbody tr th:only-of-type {\n",
       "        vertical-align: middle;\n",
       "    }\n",
       "\n",
       "    .dataframe tbody tr th {\n",
       "        vertical-align: top;\n",
       "    }\n",
       "\n",
       "    .dataframe thead th {\n",
       "        text-align: right;\n",
       "    }\n",
       "</style>\n",
       "<table border=\"1\" class=\"dataframe\">\n",
       "  <thead>\n",
       "    <tr style=\"text-align: right;\">\n",
       "      <th></th>\n",
       "      <th>pdbChainId</th>\n",
       "      <th>secondary_structure</th>\n",
       "      <th>sequence</th>\n",
       "      <th>length</th>\n",
       "      <th>Exptl.</th>\n",
       "      <th>resolution</th>\n",
       "      <th>R-factor</th>\n",
       "      <th>FreeRvalue</th>\n",
       "      <th>alpha</th>\n",
       "      <th>beta</th>\n",
       "      <th>coil</th>\n",
       "      <th>foldClass</th>\n",
       "      <th>ngram</th>\n",
       "      <th>features</th>\n",
       "    </tr>\n",
       "  </thead>\n",
       "  <tbody>\n",
       "    <tr>\n",
       "      <th>1</th>\n",
       "      <td>16VP.A</td>\n",
       "      <td>CCSCCCCCCCCHHHHHHHHHHHHTCTTHHHHHHHHHHCCCCCSTTS...</td>\n",
       "      <td>SRMPSPPMPVPPAALFNRLLDDLGFSAGPALCTMLDTWNEDLFSAL...</td>\n",
       "      <td>366</td>\n",
       "      <td>XRAY</td>\n",
       "      <td>2.1</td>\n",
       "      <td>0.19</td>\n",
       "      <td>0.26</td>\n",
       "      <td>0.469945</td>\n",
       "      <td>0.046448</td>\n",
       "      <td>0.483607</td>\n",
       "      <td>alpha</td>\n",
       "      <td>[SRM, RMP, MPS, PSP, SPP, PPM, PMP, MPV, PVP, ...</td>\n",
       "      <td>[-2.6183412084, -0.37215537190000003, 0.140630...</td>\n",
       "    </tr>\n",
       "    <tr>\n",
       "      <th>1000</th>\n",
       "      <td>1PBW.B</td>\n",
       "      <td>CCCCCCCCCCCCCCHHHHCCTTSCSCHHHHHHHHHHHHHHTTCTTT...</td>\n",
       "      <td>MEADVEQQALTLPDLAEQFAPPDIAPPLLIKLVEAIEKKGLECSTL...</td>\n",
       "      <td>216</td>\n",
       "      <td>XRAY</td>\n",
       "      <td>2.0</td>\n",
       "      <td>0.18</td>\n",
       "      <td>0.23</td>\n",
       "      <td>0.504630</td>\n",
       "      <td>0.004630</td>\n",
       "      <td>0.490741</td>\n",
       "      <td>alpha</td>\n",
       "      <td>[MEA, EAD, ADV, DVE, VEQ, EQQ, QQA, QAL, ALT, ...</td>\n",
       "      <td>[-2.4130836608, -0.5122827316, 0.1969318015, -...</td>\n",
       "    </tr>\n",
       "  </tbody>\n",
       "</table>\n",
       "</div>"
      ],
      "text/plain": [
       "     pdbChainId                                secondary_structure  \\\n",
       "1        16VP.A  CCSCCCCCCCCHHHHHHHHHHHHTCTTHHHHHHHHHHCCCCCSTTS...   \n",
       "1000     1PBW.B  CCCCCCCCCCCCCCHHHHCCTTSCSCHHHHHHHHHHHHHHTTCTTT...   \n",
       "\n",
       "                                               sequence  length Exptl.  \\\n",
       "1     SRMPSPPMPVPPAALFNRLLDDLGFSAGPALCTMLDTWNEDLFSAL...     366   XRAY   \n",
       "1000  MEADVEQQALTLPDLAEQFAPPDIAPPLLIKLVEAIEKKGLECSTL...     216   XRAY   \n",
       "\n",
       "      resolution  R-factor  FreeRvalue     alpha      beta      coil  \\\n",
       "1            2.1      0.19        0.26  0.469945  0.046448  0.483607   \n",
       "1000         2.0      0.18        0.23  0.504630  0.004630  0.490741   \n",
       "\n",
       "     foldClass                                              ngram  \\\n",
       "1        alpha  [SRM, RMP, MPS, PSP, SPP, PPM, PMP, MPV, PVP, ...   \n",
       "1000     alpha  [MEA, EAD, ADV, DVE, VEQ, EQQ, QQA, QAL, ALT, ...   \n",
       "\n",
       "                                               features  \n",
       "1     [-2.6183412084, -0.37215537190000003, 0.140630...  \n",
       "1000  [-2.4130836608, -0.5122827316, 0.1969318015, -...  "
      ]
     },
     "execution_count": 4,
     "metadata": {},
     "output_type": "execute_result"
    }
   ],
   "source": [
    "print(\"Total number of data:\", df.shape[0], \"\\n\")\n",
    "df.head(2)"
   ]
  },
  {
   "cell_type": "markdown",
   "metadata": {},
   "source": [
    "## Split dataset into a training set and a test set"
   ]
  },
  {
   "cell_type": "code",
   "execution_count": 5,
   "metadata": {},
   "outputs": [
    {
     "name": "stdout",
     "output_type": "stream",
     "text": [
      "Training set size: 4027 \n",
      "\n",
      "alpha         2107\n",
      "alpha+beta    1266\n",
      "beta           654\n",
      "Name: foldClass, dtype: int64\n",
      "\n",
      "Test set size: 1343 \n",
      "\n",
      "alpha         703\n",
      "alpha+beta    422\n",
      "beta          218\n",
      "Name: foldClass, dtype: int64\n"
     ]
    }
   ],
   "source": [
    "train, test = train_test_split(df, test_size=0.25, random_state=13, stratify=df[value_col])\n",
    "print(\"Training set size:\", train.shape[0], \"\\n\")\n",
    "print(train[value_col].value_counts())\n",
    "print()\n",
    "print(\"Test set size:\", test.shape[0], \"\\n\")\n",
    "print(test[value_col].value_counts())"
   ]
  },
  {
   "cell_type": "markdown",
   "metadata": {},
   "source": [
    "## Select a Classification Method (default SVM)\n",
    "Using the pull-down menu, you can select one of three machine learning models and compare the performance."
   ]
  },
  {
   "cell_type": "code",
   "execution_count": 6,
   "metadata": {},
   "outputs": [],
   "source": [
    "method = widgets.Dropdown(options=['SVM', 'LogisticRegression', \"NeuralNetwork\"],description='Method')"
   ]
  },
  {
   "cell_type": "code",
   "execution_count": 7,
   "metadata": {},
   "outputs": [
    {
     "data": {
      "application/vnd.jupyter.widget-view+json": {
       "model_id": "0a87da19eaa4458c975069b3a69428ea",
       "version_major": 2,
       "version_minor": 0
      },
      "text/plain": [
       "Dropdown(description='Method', options=('SVM', 'LogisticRegression', 'NeuralNetwork'), value='SVM')"
      ]
     },
     "metadata": {},
     "output_type": "display_data"
    }
   ],
   "source": [
    "display(method)"
   ]
  },
  {
   "cell_type": "markdown",
   "metadata": {},
   "source": [
    "## Train a classifier"
   ]
  },
  {
   "cell_type": "code",
   "execution_count": 8,
   "metadata": {},
   "outputs": [
    {
     "data": {
      "text/plain": [
       "SVC(C=1.0, cache_size=200, class_weight='balanced', coef0=0.0,\n",
       "  decision_function_shape='ovr', degree=3, gamma='auto', kernel='rbf',\n",
       "  max_iter=-1, probability=True, random_state=13, shrinking=True,\n",
       "  tol=0.001, verbose=False)"
      ]
     },
     "execution_count": 8,
     "metadata": {},
     "output_type": "execute_result"
    }
   ],
   "source": [
    "if (method.value == 'SVM'):\n",
    "    classifier = svm.SVC(gamma='auto', class_weight='balanced', random_state=13, probability=True)\n",
    "elif (method.value == 'LogisticRegression'):\n",
    "    classifier = LogisticRegression(class_weight='balanced', random_state=13, solver='lbfgs', multi_class='auto', max_iter=500)\n",
    "elif (method.value == 'NeuralNetwork'):\n",
    "    # Neural network with one hidden layer of 20 nodes\n",
    "    classifier = MLPClassifier(hidden_layer_sizes = (20), random_state=13, early_stopping=True)\n",
    "\n",
    "\n",
    "classifier.fit(train[feature_col].tolist(), train[value_col])"
   ]
  },
  {
   "cell_type": "markdown",
   "metadata": {},
   "source": [
    "## Make prediction for the test set"
   ]
  },
  {
   "cell_type": "code",
   "execution_count": 9,
   "metadata": {},
   "outputs": [],
   "source": [
    "predicted = classifier.predict(test[feature_col].tolist())\n",
    "expected = test[value_col]"
   ]
  },
  {
   "cell_type": "markdown",
   "metadata": {},
   "source": [
    "## Calculate metrics for the test set"
   ]
  },
  {
   "cell_type": "code",
   "execution_count": 10,
   "metadata": {},
   "outputs": [
    {
     "name": "stdout",
     "output_type": "stream",
     "text": [
      "Classification metrics:\n",
      "\n",
      "             precision    recall  f1-score   support\n",
      "\n",
      "      alpha       0.88      0.78      0.83       703\n",
      " alpha+beta       0.65      0.73      0.69       422\n",
      "       beta       0.71      0.80      0.75       218\n",
      "\n",
      "avg / total       0.78      0.77      0.77      1343\n",
      "\n"
     ]
    },
    {
     "data": {
      "image/png": "[encoded data removed]",
      "text/plain": [
       "<Figure size 432x288 with 2 Axes>"
      ]
     },
     "metadata": {
      "needs_background": "light"
     },
     "output_type": "display_data"
    }
   ],
   "source": [
    "print(\"Classification metrics:\\n\")\n",
    "print(metrics.classification_report(expected, predicted))\n",
    "\n",
    "cm = metrics.confusion_matrix(expected, predicted)\n",
    "mlutils.plot_confusion_matrix(cm, classifier.classes_, normalize=True, title='Normalized Confusion Matrix')"
   ]
  },
  {
   "cell_type": "code",
   "execution_count": 11,
   "metadata": {},
   "outputs": [
    {
     "data": {
      "image/png": "[encoded data removed]",
      "text/plain": [
       "<Figure size 432x288 with 2 Axes>"
      ]
     },
     "metadata": {
      "needs_background": "light"
     },
     "output_type": "display_data"
    }
   ],
   "source": [
    "mlutils.plot_confusion_matrix(cm, classifier.classes_, normalize=False, title='Confusion Matrix')"
   ]
  },
  {
   "cell_type": "markdown",
   "metadata": {},
   "source": [
    "## Results\n",
    "The three classification methods: SVM, Logistic Regression, and Neural Network perform about the same on the test dataset. We have not optimized any parameters. We leave this as an excercise for the reader.\n",
    "\n",
    "For all three methods, the prediction of the mixed class: alpha+beta has the lowest precision and recall. \n",
    "\n",
    "**Limitations of the Model**\n",
    "\n",
    "The feature vectors are created by summing ProtVectors for all 3-grams of a protein sequence and this process averages individual contributions. This step may contribute to the lower performance for the alpha+beta class, because alpha and beta related features are averaged together. In addition, the beta class is underrepresented.\n",
    "\n",
    "The limiting factor appears to the expressiveness of the feature vector using the ProtVec model. Furthermore, we used a cutoff of 25% alpha and/or beta content to define the fold classes. This means that the model will not perform well on protein sequences with minimal alpha or beta content.\n",
    "\n",
    "Alternative feature vectors can be easily explored by replacing the CalculateFeatures step with another method."
   ]
  },
  {
   "cell_type": "markdown",
   "metadata": {},
   "source": [
    "## Save the Classification Model"
   ]
  },
  {
   "cell_type": "code",
   "execution_count": 12,
   "metadata": {},
   "outputs": [
    {
     "data": {
      "text/plain": [
       "['./intermediate_data/classifier']"
      ]
     },
     "execution_count": 12,
     "metadata": {},
     "output_type": "execute_result"
    }
   ],
   "source": [
    "joblib.dump(classifier, \"./intermediate_data/classifier\")"
   ]
  },
  {
   "cell_type": "markdown",
   "metadata": {},
   "source": [
    "## Next Step\n",
    "After you saved the classification model here, run the next step in the workflow [4-Predict.ipynb](./4-Predict.ipynb) or go back go back to [0-Workflow.ipynb](./0-Workflow.ipynb)."
   ]
  },
  {
   "cell_type": "markdown",
   "metadata": {},
   "source": [
    "---\n",
    "\n",
    "**Authors:** [Peter W. Rose](mailto:pwrose.ucsd@gmail.com), Shih-Cheng Huang, UC San Diego, October 1, 2018\n",
    "\n",
    "---"
   ]
  },
  {
   "cell_type": "markdown",
   "metadata": {},
   "source": [
    " - Balanced weighting like scikit-learn"
   ]
  },
  {
   "cell_type": "code",
   "execution_count": 33,
   "metadata": {},
   "outputs": [
    {
     "data": {
      "text/plain": [
       "100"
      ]
     },
     "execution_count": 33,
     "metadata": {},
     "output_type": "execute_result"
    }
   ],
   "source": [
    "len(train[feature_col][6734])"
   ]
  },
  {
   "cell_type": "code",
   "execution_count": 17,
   "metadata": {},
   "outputs": [],
   "source": [
    "import numpy as np\n",
    "\n",
    "# train, val = train_test_split(train, test_size=0.1, random_state=13, stratify=train[value_col])\n",
    "\n",
    "train_X = np.array(train[feature_col].tolist())\n",
    "train_y = train[value_col]\n",
    "# val_X = np.array(val[feature_col].tolist())\n",
    "# val_y = val[value_col]\n",
    "test_X = np.array(test[feature_col].tolist())\n",
    "test_y = test[value_col]"
   ]
  },
  {
   "cell_type": "code",
   "execution_count": 25,
   "metadata": {},
   "outputs": [
    {
     "data": {
      "text/plain": [
       "'alpha'"
      ]
     },
     "execution_count": 25,
     "metadata": {},
     "output_type": "execute_result"
    }
   ],
   "source": [
    "train_y[1]"
   ]
  },
  {
   "cell_type": "code",
   "execution_count": 28,
   "metadata": {},
   "outputs": [],
   "source": [
    "from numpy import argmax\n",
    "from sklearn.preprocessing import LabelEncoder\n",
    "from sklearn.preprocessing import OneHotEncoder\n",
    "\n",
    "def hot_one_encoding(values):\n",
    "    # integer encode\n",
    "    label_encoder = LabelEncoder()\n",
    "    integer_encoded = label_encoder.fit_transform(values)\n",
    "#     print(integer_encoded)\n",
    "    # binary encode\n",
    "    onehot_encoder = OneHotEncoder(sparse=False)\n",
    "    integer_encoded = integer_encoded.reshape(len(integer_encoded), 1)\n",
    "    onehot_encoded = onehot_encoder.fit_transform(integer_encoded)\n",
    "#     print(onehot_encoded)\n",
    "    # invert first example\n",
    "#     inverted = label_encoder.inverse_transform([argmax(onehot_encoded[0, :])])\n",
    "#     print(inverted)\n",
    "    return onehot_encoded\n",
    "\n",
    "train_y_num = hot_one_encoding(train_y)\n",
    "test_y_num = hot_one_encoding(test_y)"
   ]
  },
  {
   "cell_type": "code",
   "execution_count": 35,
   "metadata": {},
   "outputs": [
    {
     "data": {
      "text/plain": [
       "(4027, 100)"
      ]
     },
     "execution_count": 35,
     "metadata": {},
     "output_type": "execute_result"
    }
   ],
   "source": [
    "train_X.shape"
   ]
  },
  {
   "cell_type": "code",
   "execution_count": 36,
   "metadata": {},
   "outputs": [],
   "source": [
    "train_X_num = train_X.reshape((train_X.shape[0], train_X.shape[1], 1))\n",
    "test_X_num = test_X.reshape((test_X.shape[0], test_X.shape[1], 1))"
   ]
  },
  {
   "cell_type": "code",
   "execution_count": 40,
   "metadata": {},
   "outputs": [
    {
     "data": {
      "text/plain": [
       "(1343, 100, 1)"
      ]
     },
     "execution_count": 40,
     "metadata": {},
     "output_type": "execute_result"
    }
   ],
   "source": [
    "test_X_num.shape"
   ]
  },
  {
   "cell_type": "code",
   "execution_count": 47,
   "metadata": {},
   "outputs": [],
   "source": [
    "from keras.layers import Dense, Input, LSTM, Embedding, Dropout, Activation, CuDNNGRU, Conv1D\n",
    "from keras.layers import Bidirectional, GlobalMaxPool1D\n",
    "from keras.models import Model\n",
    "from keras.models import Sequential\n",
    "from keras import initializers, regularizers, constraints, optimizers, layers\n",
    "\n",
    "model = Sequential()\n",
    "model.add(LSTM(5, input_shape=(100,1)))\n",
    "model.add(Dense(3))\n",
    "model.add(Activation('softmax'))"
   ]
  },
  {
   "cell_type": "code",
   "execution_count": 51,
   "metadata": {},
   "outputs": [],
   "source": [
    "from keras.losses import categorical_crossentropy\n",
    "\n",
    "model.compile(optimizer=\"adam\", loss='categorical_crossentropy', metrics=['accuracy'])"
   ]
  },
  {
   "cell_type": "code",
   "execution_count": 52,
   "metadata": {},
   "outputs": [
    {
     "name": "stdout",
     "output_type": "stream",
     "text": [
      "Epoch 1/10\n",
      "4027/4027 [==============================] - 19s 5ms/step - loss: 0.9900 - acc: 0.5232\n",
      "Epoch 2/10\n",
      "4027/4027 [==============================] - 18s 4ms/step - loss: 0.9865 - acc: 0.5232\n",
      "Epoch 3/10\n",
      "4027/4027 [==============================] - 16s 4ms/step - loss: 0.9775 - acc: 0.5232\n",
      "Epoch 4/10\n",
      "4027/4027 [==============================] - 18s 4ms/step - loss: 0.9632 - acc: 0.5153\n",
      "Epoch 5/10\n",
      "4027/4027 [==============================] - 18s 5ms/step - loss: 0.9397 - acc: 0.5106\n",
      "Epoch 6/10\n",
      "4027/4027 [==============================] - 18s 5ms/step - loss: 0.9201 - acc: 0.5200\n",
      "Epoch 7/10\n",
      "4027/4027 [==============================] - 16s 4ms/step - loss: 0.9057 - acc: 0.5289\n",
      "Epoch 8/10\n",
      "4027/4027 [==============================] - 17s 4ms/step - loss: 0.8886 - acc: 0.5396\n",
      "Epoch 9/10\n",
      "4027/4027 [==============================] - 18s 5ms/step - loss: 0.8737 - acc: 0.5533\n",
      "Epoch 10/10\n",
      "4027/4027 [==============================] - 18s 5ms/step - loss: 0.8637 - acc: 0.5639\n"
     ]
    },
    {
     "data": {
      "text/plain": [
       "<keras.callbacks.History at 0x7f29c96a94a8>"
      ]
     },
     "execution_count": 52,
     "metadata": {},
     "output_type": "execute_result"
    }
   ],
   "source": [
    "model.fit(train_X_num, train_y_num, batch_size=32, epochs=10)"
   ]
  },
  {
   "cell_type": "code",
   "execution_count": 53,
   "metadata": {},
   "outputs": [
    {
     "name": "stdout",
     "output_type": "stream",
     "text": [
      "1343/1343 [==============================] - 1s 867us/step\n"
     ]
    }
   ],
   "source": [
    "loss, accuracy = model.evaluate(test_X_num, test_y_num)"
   ]
  },
  {
   "cell_type": "code",
   "execution_count": 54,
   "metadata": {},
   "outputs": [
    {
     "name": "stdout",
     "output_type": "stream",
     "text": [
      "Accuracy: 0.5636634397932778\n"
     ]
    }
   ],
   "source": [
    "print(\"Accuracy: {}\".format(accuracy))"
   ]
  },
  {
   "cell_type": "code",
   "execution_count": 58,
   "metadata": {},
   "outputs": [],
   "source": [
    "model_2 = Sequential()\n",
    "model_2.add(Bidirectional(LSTM(50, input_shape=(100,1), \\\n",
    "                              return_sequences=True, dropout=0.1, recurrent_dropout=0.1)))\n",
    "model_2.add(GlobalMaxPool1D())\n",
    "model_2.add(Dense(50, activation=\"relu\"))\n",
    "model_2.add(Dropout(0.1))\n",
    "model_2.add(Dense(3, activation='softmax'))\n",
    "\n",
    "model_2.compile(loss='categorical_crossentropy', optimizer='adam', metrics=['accuracy'])"
   ]
  },
  {
   "cell_type": "code",
   "execution_count": 60,
   "metadata": {},
   "outputs": [
    {
     "name": "stdout",
     "output_type": "stream",
     "text": [
      "Epoch 1/100\n",
      "4027/4027 [==============================] - 28s 7ms/step - loss: 0.8963 - acc: 0.5498\n",
      "Epoch 2/100\n",
      "4027/4027 [==============================] - 28s 7ms/step - loss: 0.8679 - acc: 0.5736\n",
      "Epoch 3/100\n",
      "4027/4027 [==============================] - 29s 7ms/step - loss: 0.8528 - acc: 0.5927\n",
      "Epoch 4/100\n",
      "4027/4027 [==============================] - 29s 7ms/step - loss: 0.8317 - acc: 0.6069\n",
      "Epoch 5/100\n",
      "4027/4027 [==============================] - 27s 7ms/step - loss: 0.7967 - acc: 0.6315\n",
      "Epoch 6/100\n",
      "4027/4027 [==============================] - 27s 7ms/step - loss: 0.7890 - acc: 0.6404\n",
      "Epoch 7/100\n",
      "4027/4027 [==============================] - 29s 7ms/step - loss: 0.7618 - acc: 0.6489\n",
      "Epoch 8/100\n",
      "4027/4027 [==============================] - 28s 7ms/step - loss: 0.7419 - acc: 0.6640\n",
      "Epoch 9/100\n",
      "4027/4027 [==============================] - 28s 7ms/step - loss: 0.7290 - acc: 0.6705\n",
      "Epoch 10/100\n",
      "4027/4027 [==============================] - 28s 7ms/step - loss: 0.6989 - acc: 0.6956\n",
      "Epoch 11/100\n",
      "4027/4027 [==============================] - 28s 7ms/step - loss: 0.6889 - acc: 0.7010\n",
      "Epoch 12/100\n",
      "4027/4027 [==============================] - 28s 7ms/step - loss: 0.6884 - acc: 0.6961\n",
      "Epoch 13/100\n",
      "4027/4027 [==============================] - 26s 7ms/step - loss: 0.6689 - acc: 0.7065\n",
      "Epoch 14/100\n",
      "4027/4027 [==============================] - 29s 7ms/step - loss: 0.6568 - acc: 0.7132\n",
      "Epoch 15/100\n",
      "4027/4027 [==============================] - 29s 7ms/step - loss: 0.6593 - acc: 0.7085\n",
      "Epoch 16/100\n",
      "4027/4027 [==============================] - 27s 7ms/step - loss: 0.6601 - acc: 0.7152\n",
      "Epoch 17/100\n",
      "4027/4027 [==============================] - 28s 7ms/step - loss: 0.6419 - acc: 0.7199\n",
      "Epoch 18/100\n",
      "4027/4027 [==============================] - 29s 7ms/step - loss: 0.6434 - acc: 0.7221\n",
      "Epoch 19/100\n",
      "4027/4027 [==============================] - 28s 7ms/step - loss: 0.6313 - acc: 0.7283\n",
      "Epoch 20/100\n",
      "4027/4027 [==============================] - 26s 6ms/step - loss: 0.6395 - acc: 0.7261\n",
      "Epoch 21/100\n",
      "4027/4027 [==============================] - 29s 7ms/step - loss: 0.6188 - acc: 0.7385\n",
      "Epoch 22/100\n",
      "4027/4027 [==============================] - 28s 7ms/step - loss: 0.6315 - acc: 0.7318\n",
      "Epoch 23/100\n",
      "4027/4027 [==============================] - 28s 7ms/step - loss: 0.6113 - acc: 0.7395\n",
      "Epoch 24/100\n",
      "4027/4027 [==============================] - 28s 7ms/step - loss: 0.6071 - acc: 0.7393\n",
      "Epoch 25/100\n",
      "4027/4027 [==============================] - 29s 7ms/step - loss: 0.6003 - acc: 0.7435\n",
      "Epoch 26/100\n",
      "4027/4027 [==============================] - 28s 7ms/step - loss: 0.6015 - acc: 0.7445\n",
      "Epoch 27/100\n",
      "4027/4027 [==============================] - 28s 7ms/step - loss: 0.6123 - acc: 0.7400\n",
      "Epoch 28/100\n",
      "4027/4027 [==============================] - 29s 7ms/step - loss: 0.5910 - acc: 0.7462\n",
      "Epoch 29/100\n",
      "4027/4027 [==============================] - 28s 7ms/step - loss: 0.6103 - acc: 0.7415\n",
      "Epoch 30/100\n",
      "4027/4027 [==============================] - 27s 7ms/step - loss: 0.5876 - acc: 0.7524\n",
      "Epoch 31/100\n",
      "4027/4027 [==============================] - 29s 7ms/step - loss: 0.5918 - acc: 0.7470\n",
      "Epoch 32/100\n",
      "4027/4027 [==============================] - 28s 7ms/step - loss: 0.5890 - acc: 0.7442\n",
      "Epoch 33/100\n",
      "4027/4027 [==============================] - 29s 7ms/step - loss: 0.5915 - acc: 0.7559\n",
      "Epoch 34/100\n",
      "4027/4027 [==============================] - 28s 7ms/step - loss: 0.5768 - acc: 0.7576\n",
      "Epoch 35/100\n",
      "4027/4027 [==============================] - 29s 7ms/step - loss: 0.5788 - acc: 0.7579\n",
      "Epoch 36/100\n",
      "4027/4027 [==============================] - 29s 7ms/step - loss: 0.5865 - acc: 0.7482\n",
      "Epoch 37/100\n",
      "4027/4027 [==============================] - 27s 7ms/step - loss: 0.5635 - acc: 0.7626\n",
      "Epoch 38/100\n",
      "4027/4027 [==============================] - 26s 7ms/step - loss: 0.5725 - acc: 0.7599\n",
      "Epoch 39/100\n",
      "4027/4027 [==============================] - 29s 7ms/step - loss: 0.5794 - acc: 0.7586\n",
      "Epoch 40/100\n",
      "4027/4027 [==============================] - 28s 7ms/step - loss: 0.5650 - acc: 0.7604\n",
      "Epoch 41/100\n",
      "4027/4027 [==============================] - 27s 7ms/step - loss: 0.5657 - acc: 0.7638\n",
      "Epoch 42/100\n",
      "4027/4027 [==============================] - 28s 7ms/step - loss: 0.5637 - acc: 0.7581\n",
      "Epoch 43/100\n",
      "4027/4027 [==============================] - 28s 7ms/step - loss: 0.5628 - acc: 0.7616\n",
      "Epoch 44/100\n",
      "4027/4027 [==============================] - 28s 7ms/step - loss: 0.5489 - acc: 0.7629\n",
      "Epoch 45/100\n",
      "4027/4027 [==============================] - 28s 7ms/step - loss: 0.5670 - acc: 0.7576\n",
      "Epoch 46/100\n",
      "4027/4027 [==============================] - 29s 7ms/step - loss: 0.5638 - acc: 0.7552\n",
      "Epoch 47/100\n",
      "4027/4027 [==============================] - 27s 7ms/step - loss: 0.5561 - acc: 0.7691\n",
      "Epoch 48/100\n",
      "4027/4027 [==============================] - 27s 7ms/step - loss: 0.5506 - acc: 0.7641\n",
      "Epoch 49/100\n",
      "4027/4027 [==============================] - 28s 7ms/step - loss: 0.5594 - acc: 0.7710\n",
      "Epoch 50/100\n",
      "4027/4027 [==============================] - 29s 7ms/step - loss: 0.5499 - acc: 0.7676\n",
      "Epoch 51/100\n",
      "4027/4027 [==============================] - 27s 7ms/step - loss: 0.5440 - acc: 0.7705\n",
      "Epoch 52/100\n",
      "4027/4027 [==============================] - 28s 7ms/step - loss: 0.5366 - acc: 0.7763\n",
      "Epoch 53/100\n",
      "4027/4027 [==============================] - 27s 7ms/step - loss: 0.5455 - acc: 0.7705\n",
      "Epoch 54/100\n",
      "4027/4027 [==============================] - 29s 7ms/step - loss: 0.5398 - acc: 0.7651\n",
      "Epoch 55/100\n",
      "4027/4027 [==============================] - 28s 7ms/step - loss: 0.5335 - acc: 0.7773\n",
      "Epoch 56/100\n",
      "4027/4027 [==============================] - 29s 7ms/step - loss: 0.5448 - acc: 0.7758\n",
      "Epoch 57/100\n",
      "4027/4027 [==============================] - 28s 7ms/step - loss: 0.5390 - acc: 0.7753\n",
      "Epoch 58/100\n",
      "4027/4027 [==============================] - 27s 7ms/step - loss: 0.5319 - acc: 0.7728\n",
      "Epoch 59/100\n",
      "4027/4027 [==============================] - 27s 7ms/step - loss: 0.5343 - acc: 0.7743\n",
      "Epoch 60/100\n",
      "4027/4027 [==============================] - 28s 7ms/step - loss: 0.5328 - acc: 0.7763\n",
      "Epoch 61/100\n",
      "4027/4027 [==============================] - 29s 7ms/step - loss: 0.5176 - acc: 0.7842\n",
      "Epoch 62/100\n",
      "4027/4027 [==============================] - 28s 7ms/step - loss: 0.5306 - acc: 0.7768\n",
      "Epoch 63/100\n",
      "4027/4027 [==============================] - 29s 7ms/step - loss: 0.5281 - acc: 0.7765\n",
      "Epoch 64/100\n",
      "4027/4027 [==============================] - 29s 7ms/step - loss: 0.5311 - acc: 0.7725\n",
      "Epoch 65/100\n",
      "4027/4027 [==============================] - 28s 7ms/step - loss: 0.5212 - acc: 0.7845\n",
      "Epoch 66/100\n",
      "4027/4027 [==============================] - 27s 7ms/step - loss: 0.5134 - acc: 0.7914\n",
      "Epoch 67/100\n",
      "4027/4027 [==============================] - 28s 7ms/step - loss: 0.5264 - acc: 0.7708\n",
      "Epoch 68/100\n",
      "4027/4027 [==============================] - 28s 7ms/step - loss: 0.5191 - acc: 0.7830\n",
      "Epoch 69/100\n",
      "4027/4027 [==============================] - 27s 7ms/step - loss: 0.5134 - acc: 0.7872\n",
      "Epoch 70/100\n",
      "4027/4027 [==============================] - 28s 7ms/step - loss: 0.5138 - acc: 0.7797\n",
      "Epoch 71/100\n",
      "4027/4027 [==============================] - 29s 7ms/step - loss: 0.5213 - acc: 0.7758\n",
      "Epoch 72/100\n",
      "4027/4027 [==============================] - 27s 7ms/step - loss: 0.5183 - acc: 0.7782\n",
      "Epoch 73/100\n",
      "4027/4027 [==============================] - 27s 7ms/step - loss: 0.5056 - acc: 0.7812\n",
      "Epoch 74/100\n",
      "4027/4027 [==============================] - 29s 7ms/step - loss: 0.5093 - acc: 0.7864\n",
      "Epoch 75/100\n",
      "4027/4027 [==============================] - 29s 7ms/step - loss: 0.5078 - acc: 0.7837\n",
      "Epoch 76/100\n",
      "4027/4027 [==============================] - 27s 7ms/step - loss: 0.5146 - acc: 0.7797\n",
      "Epoch 77/100\n",
      "4027/4027 [==============================] - 28s 7ms/step - loss: 0.5019 - acc: 0.7887\n",
      "Epoch 78/100\n",
      "4027/4027 [==============================] - 29s 7ms/step - loss: 0.4987 - acc: 0.7939\n",
      "Epoch 79/100\n",
      "4027/4027 [==============================] - 28s 7ms/step - loss: 0.4975 - acc: 0.7919\n",
      "Epoch 80/100\n",
      "4027/4027 [==============================] - 27s 7ms/step - loss: 0.5081 - acc: 0.7850\n",
      "Epoch 81/100\n",
      "4027/4027 [==============================] - 27s 7ms/step - loss: 0.5096 - acc: 0.7887\n",
      "Epoch 82/100\n",
      "4027/4027 [==============================] - 28s 7ms/step - loss: 0.4970 - acc: 0.7867\n",
      "Epoch 83/100\n",
      "4027/4027 [==============================] - 25s 6ms/step - loss: 0.4981 - acc: 0.7917\n",
      "Epoch 84/100\n",
      "4027/4027 [==============================] - 27s 7ms/step - loss: 0.4879 - acc: 0.7877\n",
      "Epoch 85/100\n",
      "4027/4027 [==============================] - 29s 7ms/step - loss: 0.4972 - acc: 0.7904\n",
      "Epoch 86/100\n",
      "4027/4027 [==============================] - 27s 7ms/step - loss: 0.4970 - acc: 0.7845\n",
      "Epoch 87/100\n",
      "4027/4027 [==============================] - 28s 7ms/step - loss: 0.4920 - acc: 0.7904\n",
      "Epoch 88/100\n",
      "4027/4027 [==============================] - 28s 7ms/step - loss: 0.4967 - acc: 0.7892\n",
      "Epoch 89/100\n",
      "4027/4027 [==============================] - 28s 7ms/step - loss: 0.4901 - acc: 0.7922\n",
      "Epoch 90/100\n",
      "4027/4027 [==============================] - 27s 7ms/step - loss: 0.4851 - acc: 0.7939\n",
      "Epoch 91/100\n",
      "4027/4027 [==============================] - 29s 7ms/step - loss: 0.4853 - acc: 0.7989\n",
      "Epoch 92/100\n",
      "4027/4027 [==============================] - 28s 7ms/step - loss: 0.4868 - acc: 0.7944\n",
      "Epoch 93/100\n",
      "4027/4027 [==============================] - 28s 7ms/step - loss: 0.4749 - acc: 0.7996\n",
      "Epoch 94/100\n",
      "4027/4027 [==============================] - 28s 7ms/step - loss: 0.4801 - acc: 0.7949\n",
      "Epoch 95/100\n",
      "4027/4027 [==============================] - 28s 7ms/step - loss: 0.4797 - acc: 0.7946\n",
      "Epoch 96/100\n",
      "4027/4027 [==============================] - 28s 7ms/step - loss: 0.4788 - acc: 0.8021\n",
      "Epoch 97/100\n",
      "4027/4027 [==============================] - 27s 7ms/step - loss: 0.4800 - acc: 0.7941\n",
      "Epoch 98/100\n",
      "4027/4027 [==============================] - 28s 7ms/step - loss: 0.4797 - acc: 0.7907\n",
      "Epoch 99/100\n",
      "4027/4027 [==============================] - 29s 7ms/step - loss: 0.4668 - acc: 0.8023\n",
      "Epoch 100/100\n",
      "4027/4027 [==============================] - 28s 7ms/step - loss: 0.4787 - acc: 0.7944\n"
     ]
    },
    {
     "data": {
      "text/plain": [
       "<keras.callbacks.History at 0x7f28d842abe0>"
      ]
     },
     "execution_count": 60,
     "metadata": {},
     "output_type": "execute_result"
    }
   ],
   "source": [
    "model_2.fit(train_X_num, train_y_num, batch_size=32, epochs=100)"
   ]
  },
  {
   "cell_type": "code",
   "execution_count": 61,
   "metadata": {},
   "outputs": [
    {
     "name": "stdout",
     "output_type": "stream",
     "text": [
      "1343/1343 [==============================] - 2s 1ms/step\n",
      "Accuracy for the model_2: 0.734177215411782\n"
     ]
    }
   ],
   "source": [
    "loss_2, accuracy_2 = model_2.evaluate(test_X_num, test_y_num)\n",
    "print(\"Accuracy for the model_2: {}\".format(accuracy_2))"
   ]
  },
  {
   "cell_type": "code",
   "execution_count": 68,
   "metadata": {},
   "outputs": [],
   "source": [
    "predictions_2 = model_2.predict_classes(test_X_num)"
   ]
  },
  {
   "cell_type": "code",
   "execution_count": 69,
   "metadata": {},
   "outputs": [
    {
     "data": {
      "text/plain": [
       "array([1, 1, 0, ..., 1, 0, 2])"
      ]
     },
     "execution_count": 69,
     "metadata": {},
     "output_type": "execute_result"
    }
   ],
   "source": [
    "predictions_2"
   ]
  },
  {
   "cell_type": "code",
   "execution_count": 87,
   "metadata": {},
   "outputs": [
    {
     "data": {
      "text/plain": [
       "(1343, 3)"
      ]
     },
     "execution_count": 87,
     "metadata": {},
     "output_type": "execute_result"
    }
   ],
   "source": [
    "test_y_num.shape"
   ]
  },
  {
   "cell_type": "code",
   "execution_count": 89,
   "metadata": {},
   "outputs": [],
   "source": [
    "test_y_num_int = np.array([argmax(test_y_num[i,:]) for i in range(test_y_num.shape[0])])"
   ]
  },
  {
   "cell_type": "code",
   "execution_count": 90,
   "metadata": {},
   "outputs": [
    {
     "data": {
      "text/plain": [
       "array([1, 1, 0, ..., 1, 1, 2])"
      ]
     },
     "execution_count": 90,
     "metadata": {},
     "output_type": "execute_result"
    }
   ],
   "source": [
    "test_y_num_int"
   ]
  },
  {
   "cell_type": "code",
   "execution_count": 94,
   "metadata": {},
   "outputs": [
    {
     "name": "stdout",
     "output_type": "stream",
     "text": [
      "F1-score for the model_2: 0.7341772151898734\n"
     ]
    }
   ],
   "source": [
    "from sklearn.metrics import f1_score\n",
    "\n",
    "f1_2 = f1_score(test_y_num_int, predictions_2, average='micro')\n",
    "print(\"F1-score for the model_2: {}\".format(f1_2))"
   ]
  },
  {
   "cell_type": "code",
   "execution_count": null,
   "metadata": {},
   "outputs": [],
   "source": []
  }
 ],
 "metadata": {
  "kernelspec": {
   "display_name": "Python 3",
   "language": "python",
   "name": "python3"
  },
  "language_info": {
   "codemirror_mode": {
    "name": "ipython",
    "version": 3
   },
   "file_extension": ".py",
   "mimetype": "text/x-python",
   "name": "python",
   "nbconvert_exporter": "python",
   "pygments_lexer": "ipython3",
   "version": "3.6.6"
  }
 },
 "nbformat": 4,
 "nbformat_minor": 2
}
